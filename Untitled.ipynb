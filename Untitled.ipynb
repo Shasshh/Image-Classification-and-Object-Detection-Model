{
 "cells": [
  {
   "cell_type": "code",
   "execution_count": null,
   "id": "4fe9a718",
   "metadata": {},
   "outputs": [
    {
     "name": "stdout",
     "output_type": "stream",
     "text": [
      "WARNING:tensorflow:From C:\\Users\\Asus\\anaconda3\\Lib\\site-packages\\keras\\src\\losses.py:2976: The name tf.losses.sparse_softmax_cross_entropy is deprecated. Please use tf.compat.v1.losses.sparse_softmax_cross_entropy instead.\n",
      "\n",
      "WARNING:tensorflow:From C:\\Users\\Asus\\anaconda3\\Lib\\site-packages\\keras\\src\\backend.py:1398: The name tf.executing_eagerly_outside_functions is deprecated. Please use tf.compat.v1.executing_eagerly_outside_functions instead.\n",
      "\n",
      "WARNING:tensorflow:From C:\\Users\\Asus\\anaconda3\\Lib\\site-packages\\keras\\src\\layers\\normalization\\batch_normalization.py:979: The name tf.nn.fused_batch_norm is deprecated. Please use tf.compat.v1.nn.fused_batch_norm instead.\n",
      "\n",
      " * Serving Flask app '__main__'\n",
      " * Debug mode: off\n"
     ]
    },
    {
     "name": "stderr",
     "output_type": "stream",
     "text": [
      "WARNING: This is a development server. Do not use it in a production deployment. Use a production WSGI server instead.\n",
      " * Running on http://127.0.0.1:5000\n",
      "Press CTRL+C to quit\n",
      "127.0.0.1 - - [30/Aug/2024 23:47:38] \"GET / HTTP/1.1\" 404 -\n",
      "127.0.0.1 - - [30/Aug/2024 23:47:38] \"GET /favicon.ico HTTP/1.1\" 404 -\n"
     ]
    },
    {
     "name": "stdout",
     "output_type": "stream",
     "text": [
      "1/1 [==============================] - 1s 853ms/step\n"
     ]
    },
    {
     "name": "stderr",
     "output_type": "stream",
     "text": [
      "127.0.0.1 - - [30/Aug/2024 23:47:59] \"POST /predict HTTP/1.1\" 200 -\n"
     ]
    }
   ],
   "source": [
    "from flask import Flask, request, jsonify\n",
    "from flask_cors import CORS\n",
    "from PIL import Image\n",
    "import numpy as np\n",
    "import tensorflow as tf\n",
    "import base64\n",
    "\n",
    "app = Flask(__name__)\n",
    "CORS(app)\n",
    "\n",
    "# Load your pre-trained image classification model\n",
    "model = tf.keras.models.load_model('Model')\n",
    "\n",
    "# Define a mapping between class indices and class labels\n",
    "class_labels = {\n",
    "    0 : 'Bijapur Jowar', 1 : 'Masoor Dal', 2 : 'Moong Dal', 3 : 'Moth Bean', 4 : 'Peanut',\n",
    "     5 : 'Putani', 6 : 'Rice', 7 : 'Toor Dal', 8 : 'Urad Dal', 9 : 'Wheat', 10 : 'Whole Moong'\n",
    "\n",
    "    # Add more class labels as needed\n",
    "}\n",
    "\n",
    "def preprocess_image(image_path):\n",
    "    # Load and preprocess the image for model prediction\n",
    "    img = Image.open(image_path)\n",
    "    img = img.resize((224, 224))  # Adjust size according to your model requirements\n",
    "    img = np.array(img) / 255.0  # Normalize pixel values\n",
    "    img = np.expand_dims(img, axis=0)  # Add batch dimension\n",
    "    return img\n",
    "\n",
    "@app.route('/predict', methods=['POST'])\n",
    "def predict():\n",
    "    if 'file' not in request.files:\n",
    "        return jsonify({'error': 'No file part'})\n",
    "\n",
    "    file = request.files['file']\n",
    "\n",
    "    if file.filename == '':\n",
    "        return jsonify({'error': 'No selected file'})\n",
    "\n",
    "    # Save the uploaded file\n",
    "    file_path = 'uploaded_image.jpg'\n",
    "    file.save(file_path)\n",
    "\n",
    "    # Preprocess the image for prediction\n",
    "    img = preprocess_image(file_path)\n",
    "\n",
    "    # Make predictions using the loaded model\n",
    "    predictions = model.predict(img)\n",
    "\n",
    "    # Get the class index with the highest probability\n",
    "    class_index = int(np.argmax(predictions[0]))\n",
    "\n",
    "    # Get the class label from the mapping\n",
    "    class_label = class_labels.get(class_index, 'Unknown Class')\n",
    "\n",
    "    # Encode the image as base64\n",
    "    with open(file_path, 'rb') as image_file:\n",
    "         encoded_image = base64.b64encode(image_file.read()).decode('utf-8')\n",
    "\n",
    "    # Return the result as JSON\n",
    "    result = {\n",
    "        'prediction': {\n",
    "            'class_index': class_index,\n",
    "            'class_label': class_label,\n",
    "             'image': encoded_image\n",
    "        }\n",
    "    }\n",
    "    return jsonify(result)\n",
    "\n",
    "\n",
    "if __name__ == '__main__':\n",
    "    app.run(debug=False)\n"
   ]
  },
  {
   "cell_type": "code",
   "execution_count": null,
   "id": "1db77880",
   "metadata": {},
   "outputs": [],
   "source": [
    "%tb"
   ]
  },
  {
   "cell_type": "code",
   "execution_count": null,
   "id": "23834d07",
   "metadata": {},
   "outputs": [],
   "source": []
  }
 ],
 "metadata": {
  "kernelspec": {
   "display_name": "Python 3 (ipykernel)",
   "language": "python",
   "name": "python3"
  },
  "language_info": {
   "codemirror_mode": {
    "name": "ipython",
    "version": 3
   },
   "file_extension": ".py",
   "mimetype": "text/x-python",
   "name": "python",
   "nbconvert_exporter": "python",
   "pygments_lexer": "ipython3",
   "version": "3.11.5"
  }
 },
 "nbformat": 4,
 "nbformat_minor": 5
}
